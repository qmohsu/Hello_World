{
  "nbformat": 4,
  "nbformat_minor": 0,
  "metadata": {
    "colab": {
      "provenance": [],
      "authorship_tag": "ABX9TyPd0NZE2+T72tygFvYQf6y8",
      "include_colab_link": true
    },
    "kernelspec": {
      "name": "python3",
      "display_name": "Python 3"
    },
    "language_info": {
      "name": "python"
    }
  },
  "cells": [
    {
      "cell_type": "markdown",
      "metadata": {
        "id": "view-in-github",
        "colab_type": "text"
      },
      "source": [
        "<a href=\"https://colab.research.google.com/github/qmohsu/Hello_World/blob/main/BP_SLAM_learning.ipynb\" target=\"_parent\"><img src=\"https://colab.research.google.com/assets/colab-badge.svg\" alt=\"Open In Colab\"/></a>"
      ]
    },
    {
      "cell_type": "code",
      "execution_count": null,
      "metadata": {
        "id": "iSSw2gIkYc-x"
      },
      "outputs": [],
      "source": [
        "import numpy as np\n",
        "import matplotlib.pyplot as plt\n",
        "\n",
        "# Define physical anchors (PAs) in a 10x10m space\n",
        "PA_positions = np.array([[2, 3], [7, 2], [8, 8], [3, 9]])\n",
        "\n",
        "# Simulate agent movement (straight line)\n",
        "timesteps = 100\n",
        "agent_positions = np.array([[x, 5 + 2*np.sin(0.1*x)] for x in np.linspace(0, 10, timesteps)])\n",
        "\n",
        "# Plot environment\n",
        "plt.figure(figsize=(6, 6))\n",
        "plt.scatter(PA_positions[:, 0], PA_positions[:, 1], color='red', marker='s', label=\"Physical Anchors\")\n",
        "plt.plot(agent_positions[:, 0], agent_positions[:, 1], linestyle='-', marker='o', markersize=2, label=\"Agent Path\")\n",
        "plt.legend()\n",
        "plt.xlabel(\"X Position (m)\")\n",
        "plt.ylabel(\"Y Position (m)\")\n",
        "plt.title(\"Simulated SLAM Environment\")\n",
        "plt.grid()\n",
        "plt.show()\n"
      ]
    }
  ]
}