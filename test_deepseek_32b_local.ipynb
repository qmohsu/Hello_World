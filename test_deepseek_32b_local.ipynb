{
  "nbformat": 4,
  "nbformat_minor": 0,
  "metadata": {
    "colab": {
      "provenance": [],
      "authorship_tag": "ABX9TyPB37NRfCVGuNMctUQTMFe9",
      "include_colab_link": true
    },
    "kernelspec": {
      "name": "python3",
      "display_name": "Python 3"
    },
    "language_info": {
      "name": "python"
    }
  },
  "cells": [
    {
      "cell_type": "markdown",
      "metadata": {
        "id": "view-in-github",
        "colab_type": "text"
      },
      "source": [
        "<a href=\"https://colab.research.google.com/github/qmohsu/Hello_World/blob/main/test_deepseek_32b_local.ipynb\" target=\"_parent\"><img src=\"https://colab.research.google.com/assets/colab-badge.svg\" alt=\"Open In Colab\"/></a>"
      ]
    },
    {
      "cell_type": "code",
      "execution_count": null,
      "metadata": {
        "id": "b3agWzATOimi"
      },
      "outputs": [],
      "source": [
        "\n",
        "import numpy as np\n",
        "import matplotlib.pyplot as plt\n",
        "from scipy.fft import fft, fftfreq\n",
        "from matplotlib.widgets import Slider\n",
        "\n",
        "# Set up time and frequency parameters\n",
        "sample_rate = 100  # Hz\n",
        "duration = 2.0  # seconds\n",
        "t = np.linspace(0, duration, int(sample_rate * duration))\n",
        "\n",
        "# Create a signal with multiple frequencies\n",
        "frequency_components = [5, 10]  # Frequencies in Hz\n",
        "signal = np.sum([np.sin(2 * np.pi * freq * t) for freq in frequency_components], axis=0)\n",
        "\n",
        "# Add some noise to the signal (optional)\n",
        "noise = 0.3 * np.random.randn(len(t))\n",
        "signal += noise\n",
        "\n",
        "# Compute Fourier Transform\n",
        "N = len(t)\n",
        "yf = fft(signal)\n",
        "xf = fftfreq(N, 1 / sample_rate)\n",
        "\n",
        "# Function to update plot when frequency components change\n",
        "def update(val):\n",
        "    # Update the signal based on slider values\n",
        "    new_freq1 = freq_slider1.val\n",
        "    new_freq2 = freq_slider2.val\n",
        "    new_signal = np.sin(2 * np.pi * new_freq1 * t) + np.sin(2 * np.pi * new_freq2 * t)\n",
        "\n",
        "    # Update time-domain plot\n",
        "    l_time.set_ydata(new_signal)\n",
        "\n",
        "    # Compute and update frequency-domain plot\n",
        "    yf_new = fft(new_signal)\n",
        "    magnitude = np.abs(yf_new[:N//2])\n",
        "    l_freq.set_ydata(magnitude)\n",
        "\n",
        "# Create the interactive visualization\n",
        "fig, (ax_time, ax_freq) = plt.subplots(1, 2, figsize=(15,6))\n",
        "plt.subplots_adjust(bottom=0.35)\n",
        "\n",
        "# Plot time-domain signal\n",
        "l_time, = ax_time.plot(t, signal)\n",
        "ax_time.set_title('Time Domain Signal')\n",
        "ax_time.set_xlabel('Time (seconds)')\n",
        "ax_time.set_ylabel('Amplitude')\n",
        "\n",
        "# Plot frequency-domain components\n",
        "magnitude = np.abs(yf[:N//2])\n",
        "l_freq, = ax_freq.semilogy(xf[:N//2], magnitude, color='red')\n",
        "ax_freq.set_title('Frequency Domain Components')\n",
        "ax_freq.set_xlabel('Frequency (Hz)')\n",
        "ax_freq.set_ylabel('Magnitude')\n",
        "\n",
        "# Add sliders for frequency adjustment\n",
        "ax_color = 'lightgoldenrodyellow'\n",
        "\n",
        "ax1 = plt.axes([0.25, 0.20, 0.5, 0.03], facecolor=ax_color)\n",
        "freq_slider1 = Slider(ax=ax1, label='Frequency 1 (Hz)', valmin=1, valmax=20, valinit=frequency_components[0])\n",
        "\n",
        "ax2 = plt.axes([0.25, 0.15, 0.5, 0.03], facecolor=ax_color)\n",
        "freq_slider2 = Slider(ax=ax2, label='Frequency 2 (Hz)', valmin=1, valmax=20, valinit=frequency_components[1])\n",
        "\n",
        "# Register the update function with each slider\n",
        "freq_slider1.on_changed(update)\n",
        "freq_slider2.on_changed(update)\n",
        "\n",
        "plt.show()\n",
        "\n",
        "print(\"Interactive Fourier Transform Visualization\")\n",
        "print(\"Use the sliders to adjust the frequencies and see how they contribute to both time-domain and\n",
        "frequency-domain signals.\")\n"
      ]
    }
  ]
}